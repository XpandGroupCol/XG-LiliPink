{
 "cells": [
  {
   "cell_type": "code",
   "execution_count": null,
   "metadata": {},
   "outputs": [],
   "source": [
    "# Primero importamos la biblioteca de pandas\n",
    "import pandas as pd\n",
    "\n",
    "# Luego leemos el archivo\n",
    "df = pd.read_csv('Lili_Pink_Improved.csv')"
   ]
  },
  {
   "cell_type": "markdown",
   "metadata": {},
   "source": [
    "## Limpieza\n",
    "Este archivo tiene órdenes duplicadas y no es necesario para el proyecto.\n",
    "También cambiamos el formato de la fecha para que sea más fácil de leer."
   ]
  },
  {
   "cell_type": "code",
   "execution_count": null,
   "metadata": {},
   "outputs": [],
   "source": [
    "df = df.drop_duplicates(subset=['Order'], keep='first')\n",
    "df = pd.to_datetime(df['Creation Date'])\n",
    "# Crear columna 'month' y 'year'\n",
    "df['month'] = pd.DatetimeIndex(df['Creation Date']).month\n",
    "df['year'] = pd.DatetimeIndex(df['Creation Date']).year"
   ]
  },
  {
   "cell_type": "markdown",
   "metadata": {},
   "source": [
    "Si queremos descartar las órdenes canceladas y las órdenes que no se han completado, hay que ejecutar el siguiente bloque de código:"
   ]
  },
  {
   "cell_type": "code",
   "execution_count": null,
   "metadata": {},
   "outputs": [],
   "source": [
    "# Descartar órdenes que fueron canceladas.\n",
    "df = df[(df['Status'] == 'Faturado') | (df['Status'] == 'Pronto para o manuseio') | (df['Status'] == 'Preparando Entrega')]"
   ]
  },
  {
   "cell_type": "markdown",
   "metadata": {},
   "source": [
    "Si queremos solo dejar las columnas que nos interesan, hay que ejecutar el siguiente bloque de código:"
   ]
  },
  {
   "cell_type": "code",
   "execution_count": null,
   "metadata": {},
   "outputs": [],
   "source": [
    "# Mantener solo las columnas que nos interesan\n",
    "df = df[['Origin', 'Order', 'Sequence', 'Creation Date',\n",
    "            'Client Name', 'Client Last Name', 'Client Document',\n",
    "            'Email', 'Phone', 'UF', 'City', 'Status', 'Last Change Date',\n",
    "            'UtmMedium', 'UtmSource', 'UtmCampaign', 'Coupon', 'Total Value']]"
   ]
  },
  {
   "cell_type": "markdown",
   "metadata": {},
   "source": [
    "## Análisis Exploratorio de Datos"
   ]
  },
  {
   "cell_type": "code",
   "execution_count": null,
   "metadata": {},
   "outputs": [],
   "source": [
    "# Total de 'Order'\n",
    "df['Order'].count()"
   ]
  },
  {
   "cell_type": "code",
   "execution_count": null,
   "metadata": {},
   "outputs": [],
   "source": [
    "# Total de ingresos\n",
    "df['Total Value'].sum()"
   ]
  },
  {
   "cell_type": "code",
   "execution_count": null,
   "metadata": {},
   "outputs": [],
   "source": [
    "# Mostrar el total de 'Order' y 'Total value' por 'mes', 'año', 'UtmCampaign' y 'UtmSource'\n",
    "df.groupby(['year', 'month']).agg({'Order': 'count', 'Total Value': 'sum'}).reset_index()#.to_csv('tables/historic.csv')"
   ]
  },
  {
   "cell_type": "code",
   "execution_count": null,
   "metadata": {},
   "outputs": [],
   "source": [
    "# Crear una tabla que muestre el total de 'Order' y 'Total Value' por 'Client Name' y 'Client Document', ordenado por 'Total Value'\n",
    "#df.groupby([df_g['date'].dt.year.rename('year'), df_g['date'].dt.month.rename('month'), 'Client Name', 'Client Document']).agg({'Order': 'count', 'Total Value': 'sum'}).sort_values(by=['Total Value'], ascending=False).to_csv('tables/total_orders_date_client.csv')\n",
    "df.groupby(['Client Name', 'Client Document', 'Email']).agg({'Order': 'count', 'Total Value': 'sum'}).sort_values(by=['Total Value'], ascending=False)#.to_csv('tables/total_orders_by_client.csv')"
   ]
  },
  {
   "cell_type": "code",
   "execution_count": null,
   "metadata": {},
   "outputs": [],
   "source": [
    "# Mostrar 'Quantity_SKU', 'SKU Valur' y 'SKU Total Price', agrupado por 'SKU Name' y ordenar por 'Quantity_SKU' de mayor a menor\n",
    "df.groupby(['year', 'month','SKU Name']).agg({'Quantity_SKU': 'sum', 'SKU Selling Price': 'mean', 'SKU Value': 'mean', 'Order':'count'}).sort_values(by=['year', 'month'], ascending=True)#.to_csv('tables/total_orders_by_sku.csv')"
   ]
  }
 ],
 "metadata": {
  "language_info": {
   "name": "python"
  }
 },
 "nbformat": 4,
 "nbformat_minor": 2
}
